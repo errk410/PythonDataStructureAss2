{
  "nbformat": 4,
  "nbformat_minor": 0,
  "metadata": {
    "colab": {
      "provenance": []
    },
    "kernelspec": {
      "name": "python3",
      "display_name": "Python 3"
    },
    "language_info": {
      "name": "python"
    }
  },
  "cells": [
    {
      "cell_type": "markdown",
      "source": [
        "**Q1. How do you comment code in Python? What are the different types of comments?**"
      ],
      "metadata": {
        "id": "87_z_GWKZjYl"
      }
    },
    {
      "cell_type": "markdown",
      "source": [
        "**Ans:** Comments  are ignored by the Python interpreter, we can add comments to our code to provide explanations, notes, or documentation.\n",
        "To comment a code in python we have two primary ways.\n",
        "\n",
        "1.   **Single line Comments**: When we have to add short explanation or notes, then we use these comments.\n",
        "To create a single-line comment, we use the hash symbol (#) followed by our comment. Everything after the hash symbol on the same line is considered a comment and is not executed.\n",
        "\n",
        "2.   **Multi-line comments or docstrings:**  Multi-line comments are typically created using triple-quotes (single or double) and are often referred to as docstrings. These are also two types. When we use it for single line of code then it is called Single-line docstrings, and when used for multiline line code then it is called Multi-line docstrings.\n",
        "\n",
        "\n"
      ],
      "metadata": {
        "id": "Hq3lamIfZtWR"
      }
    },
    {
      "cell_type": "code",
      "source": [
        "# single line comment\n",
        "\"\"\"This is a single-line docstring.\"\"\"\n",
        "\n",
        "    \"\"\"\n",
        "    This is a multi-line docstring.\n",
        "\n",
        "    It can contain detailed information about the function.\n",
        "    \"\"\"\n",
        "\n"
      ],
      "metadata": {
        "id": "hIyyI91cZpx7"
      },
      "execution_count": null,
      "outputs": []
    },
    {
      "cell_type": "markdown",
      "source": [
        "**Q2. What are variables in Python? How do you declare and assign values to variables?**"
      ],
      "metadata": {
        "id": "KPwaOEBleGkC"
      }
    },
    {
      "cell_type": "markdown",
      "source": [
        "**Ans:** In Python, variables are used to store and manage data. A variable is essentially a name or identifier that represents a location in memory where a value can be stored.\n",
        "\n",
        "1.  **Variable Declaration:** To declare a variable in Python, we can simply assign a value  to a variable, and Python will create the variable.\n",
        "\n",
        "2.    **Variable Assignment:** To assign a value to a variable, we use the equal sign (=) operator.\n",
        "\n",
        "\n",
        "\n"
      ],
      "metadata": {
        "id": "vYZ1ZaPhoxAm"
      }
    },
    {
      "cell_type": "code",
      "source": [
        "# Variable Declaration\n",
        "variable_name = value\n",
        "\n",
        "# Variable Assignment\n",
        "x = 10  # Assign the integer 10 to the variable x\n",
        "name = \"Sweety\"  # Assign the string \"Alice\" to the variable name\n",
        "my_list = [1, 2, 3]  # Assign a list to the variable my_list\n"
      ],
      "metadata": {
        "id": "iilpcCjaqCjS"
      },
      "execution_count": 2,
      "outputs": []
    },
    {
      "cell_type": "markdown",
      "source": [
        "**Q3. How do you convert one data type to another in Python?**"
      ],
      "metadata": {
        "id": "DoxHW1MNrNKN"
      }
    },
    {
      "cell_type": "markdown",
      "source": [
        "**Ans:** We can convert one data type to another in Python using type casting or conversion functions. Here are some common data type conversions:"
      ],
      "metadata": {
        "id": "Pf_ndAW8tupq"
      }
    },
    {
      "cell_type": "code",
      "source": [
        "# Integer to string\n",
        "\n",
        "num = 23\n",
        "str_num =str(num)"
      ],
      "metadata": {
        "id": "PYLzGiCoeM7C"
      },
      "execution_count": 3,
      "outputs": []
    },
    {
      "cell_type": "code",
      "source": [
        "# String to Integer\n",
        "\n",
        "str_num = \"23\"\n",
        "num = int(str_num)"
      ],
      "metadata": {
        "id": "SNoVSkiFt8ym"
      },
      "execution_count": 4,
      "outputs": []
    },
    {
      "cell_type": "code",
      "source": [
        "# Float to Integer:\n",
        "\n",
        "float_num = 3.14\n",
        "int_num = int(float_num)"
      ],
      "metadata": {
        "id": "VPvYOx93uMid"
      },
      "execution_count": 5,
      "outputs": []
    },
    {
      "cell_type": "code",
      "source": [
        "# Integer to Float:\n",
        "int_num = 42\n",
        "float_num = float(int_num)\n",
        "float_num"
      ],
      "metadata": {
        "colab": {
          "base_uri": "https://localhost:8080/"
        },
        "id": "aIWikLrAuPop",
        "outputId": "3d68e3f5-89ae-4171-f6e6-634ec64d0c82"
      },
      "execution_count": 11,
      "outputs": [
        {
          "output_type": "execute_result",
          "data": {
            "text/plain": [
              "42.0"
            ]
          },
          "metadata": {},
          "execution_count": 11
        }
      ]
    },
    {
      "cell_type": "code",
      "source": [
        "# String to List (using split):\n",
        "\n",
        "text = \"apple orange banana\"\n",
        "word_list = text.split()\n",
        "word_list"
      ],
      "metadata": {
        "colab": {
          "base_uri": "https://localhost:8080/"
        },
        "id": "REQ9RJAKuXpY",
        "outputId": "1a5077c8-38ca-408d-f11c-53688fee6ce0"
      },
      "execution_count": 10,
      "outputs": [
        {
          "output_type": "execute_result",
          "data": {
            "text/plain": [
              "['apple', 'orange', 'banana']"
            ]
          },
          "metadata": {},
          "execution_count": 10
        }
      ]
    },
    {
      "cell_type": "code",
      "source": [
        "# List to String (using join):\n",
        "\n",
        "word_list = [\"apple\", \"orange\", \"banana\"]\n",
        "text = \" \".join(word_list)\n",
        "text"
      ],
      "metadata": {
        "colab": {
          "base_uri": "https://localhost:8080/",
          "height": 35
        },
        "id": "5_KBOX30udeb",
        "outputId": "7068d2a6-8b7d-49dc-c21c-1127bfd842bb"
      },
      "execution_count": 12,
      "outputs": [
        {
          "output_type": "execute_result",
          "data": {
            "text/plain": [
              "'apple orange banana'"
            ],
            "application/vnd.google.colaboratory.intrinsic+json": {
              "type": "string"
            }
          },
          "metadata": {},
          "execution_count": 12
        }
      ]
    },
    {
      "cell_type": "markdown",
      "source": [
        "**Q4. How do you write and execute a Python script from the command line?**"
      ],
      "metadata": {
        "id": "TEpUfSsEvAE9"
      }
    },
    {
      "cell_type": "markdown",
      "source": [
        "**Ans:** These are the steps to write and execute a Python script from the command line,\n",
        "\n",
        "1.   **Create a Python Script:** We Use a text editor to create a Python script with a .py extension. For example, we can create a file named my_script.py.\n",
        "\n",
        "2.   **Write Your Python Code:** Open the script file and we can write our Python code inside it.\n",
        "\n",
        "3.   **Open the Command Line or Terminal:** Open a command prompt or terminal window.\n",
        "4.   **Navigate to the Script's Directory:** We use the cd (change directory) command to navigate to the directory where our Python script is located.\n",
        "\n",
        "5.   **Execute the Script:** To execute the script, use the python command followed by the script's filename.\n",
        "\n",
        "\n",
        "6. **View the Output:** If your script produces any output (e.g., print statements), it will be displayed in the command line or terminal.\n",
        "\n",
        "\n",
        "\n",
        "\n",
        "\n"
      ],
      "metadata": {
        "id": "okpAGDsBvGUP"
      }
    },
    {
      "cell_type": "markdown",
      "source": [
        "**Q5. Given a list my_list = [1, 2, 3, 4, 5], write the code to slice the list and obtain the sub-list [2, 3].**"
      ],
      "metadata": {
        "id": "h4AbVcbS20R6"
      }
    },
    {
      "cell_type": "code",
      "source": [
        "my_list = [1,2,3,4,5]\n",
        "sub_list = my_list[1:3]\n",
        "print(sub_list)"
      ],
      "metadata": {
        "colab": {
          "base_uri": "https://localhost:8080/"
        },
        "id": "a0HEXCgk2-6j",
        "outputId": "d529c03d-c911-4fc0-c4c5-4d8bd443427a"
      },
      "execution_count": 25,
      "outputs": [
        {
          "output_type": "stream",
          "name": "stdout",
          "text": [
            "[2, 3]\n"
          ]
        }
      ]
    },
    {
      "cell_type": "markdown",
      "source": [
        "**Q6. What is a complex number in mathematics, and how is it represented in Python?**"
      ],
      "metadata": {
        "id": "yDsKcBFWxKql"
      }
    },
    {
      "cell_type": "markdown",
      "source": [
        "**Ans:** In **mathematics**, a complex number is a number of the form **a + bi**, where **a** and **b** are real numbers, and **i** represents the imaginary unit (i.e., the square root of -1). Complex numbers consist of both a **real part (a)** and an **imaginary part (bi).**\n",
        "\n",
        "**In Python**, complex numbers are represented using the **j **suffix to denote the imaginary part."
      ],
      "metadata": {
        "id": "rHLDt5oAybty"
      }
    },
    {
      "cell_type": "code",
      "source": [
        "# For example:\n",
        "z1 = 3 + 2j  # 3 is the real part, 2j is the imaginary part"
      ],
      "metadata": {
        "id": "jouJGSswy2bx"
      },
      "execution_count": 13,
      "outputs": []
    },
    {
      "cell_type": "markdown",
      "source": [
        "**Q7. What is the correct way to declare a variable named age and assign the value 25 to it?**"
      ],
      "metadata": {
        "id": "0QXdmACOzaLc"
      }
    },
    {
      "cell_type": "code",
      "source": [
        "age = 25  # This line of code declares a variable named age and assigns it the integer value 25.\n"
      ],
      "metadata": {
        "id": "kU24QsCmule9"
      },
      "execution_count": null,
      "outputs": []
    },
    {
      "cell_type": "markdown",
      "source": [
        "**Q8. Declare a variable named price and assign the value 9.99 to it. What data type does this variable belong to?**"
      ],
      "metadata": {
        "id": "jsezA2HmzwNn"
      }
    },
    {
      "cell_type": "code",
      "source": [
        "price = 9.99\n",
        "type(price)    # The variable 'price' belongs to the data type \"float\" because it stores a floating-point (decimal) number."
      ],
      "metadata": {
        "colab": {
          "base_uri": "https://localhost:8080/"
        },
        "id": "SB_RF4zfz0u0",
        "outputId": "e28a8209-ab81-4518-a669-25614c735d3c"
      },
      "execution_count": 14,
      "outputs": [
        {
          "output_type": "execute_result",
          "data": {
            "text/plain": [
              "float"
            ]
          },
          "metadata": {},
          "execution_count": 14
        }
      ]
    },
    {
      "cell_type": "markdown",
      "source": [
        "**Q9. Create a variable named name and assign your full name to it as a string. How would you print the value of this variable?**"
      ],
      "metadata": {
        "id": "W2vYCE1X0Hlo"
      }
    },
    {
      "cell_type": "code",
      "source": [
        "name = \"Ram Kali Kushwaha\"\n",
        "print(name)"
      ],
      "metadata": {
        "colab": {
          "base_uri": "https://localhost:8080/"
        },
        "id": "sr6kw8Xjz4d0",
        "outputId": "a0be51cc-4611-405f-da1f-fe082f291066"
      },
      "execution_count": 15,
      "outputs": [
        {
          "output_type": "stream",
          "name": "stdout",
          "text": [
            "Ram Kali Kushwaha\n"
          ]
        }
      ]
    },
    {
      "cell_type": "markdown",
      "source": [
        "**Q10. Given the string \"Hello, World!\", extract the substring \"World\".**"
      ],
      "metadata": {
        "id": "fbjoEQMT0oW7"
      }
    },
    {
      "cell_type": "code",
      "source": [
        "string = \"Hello, World\"\n",
        "len(string)\n",
        "\n"
      ],
      "metadata": {
        "colab": {
          "base_uri": "https://localhost:8080/"
        },
        "id": "JuEAq5xQ0Vf1",
        "outputId": "2a83ec7d-5e62-4887-d232-f3453901f394"
      },
      "execution_count": 21,
      "outputs": [
        {
          "output_type": "execute_result",
          "data": {
            "text/plain": [
              "12"
            ]
          },
          "metadata": {},
          "execution_count": 21
        }
      ]
    },
    {
      "cell_type": "code",
      "source": [
        "substring = string[7:12]   # In Python, string indexing starts at 0, so \"W\" is at index 7, and \"d\" is at index 11. The slice [7:12] includes characters from index 7 up to (but not including) index 12, giving the substring \"World.\"\n",
        "print(substring)"
      ],
      "metadata": {
        "colab": {
          "base_uri": "https://localhost:8080/"
        },
        "id": "RtjGeekH07m4",
        "outputId": "f5fbc4c1-5f73-4f6a-d964-de3f909fd749"
      },
      "execution_count": 22,
      "outputs": [
        {
          "output_type": "stream",
          "name": "stdout",
          "text": [
            "World\n"
          ]
        }
      ]
    },
    {
      "cell_type": "markdown",
      "source": [
        "**Q11. To create a variable named \"is_student\" and assign it a boolean value indicating whether you are currently a student.**"
      ],
      "metadata": {
        "id": "sv6UbWSq1rpL"
      }
    },
    {
      "cell_type": "code",
      "source": [
        "is_student = True  # Set to True because I'm a student.\n"
      ],
      "metadata": {
        "id": "brmGGhwf1RtM"
      },
      "execution_count": 23,
      "outputs": []
    },
    {
      "cell_type": "code",
      "source": [],
      "metadata": {
        "id": "27biPmpD2XM2"
      },
      "execution_count": null,
      "outputs": []
    }
  ]
}